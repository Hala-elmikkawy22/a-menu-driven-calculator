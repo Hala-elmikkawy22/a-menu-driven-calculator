{
 "cells": [
  {
   "cell_type": "code",
   "execution_count": 1,
   "id": "39694584-91ed-4b20-b10d-3a184ed57d4d",
   "metadata": {},
   "outputs": [
    {
     "name": "stdout",
     "output_type": "stream",
     "text": [
      " twinle twinkle littile star \n",
      "                 how i wonder what you are \n",
      "                      up above the world so high \n",
      "                      like a diamond in the sky\n"
     ]
    }
   ],
   "source": [
    "print(''' twinle twinkle littile star \n",
    "                 how i wonder what you are \n",
    "                      up above the world so high \n",
    "                      like a diamond in the sky''')"
   ]
  },
  {
   "cell_type": "code",
   "execution_count": 2,
   "id": "4b0cb6e0-cfc0-4c48-874f-99d7686557dd",
   "metadata": {},
   "outputs": [],
   "source": [
    "import sys"
   ]
  },
  {
   "cell_type": "code",
   "execution_count": 3,
   "id": "742fcead-714e-4dc5-8a83-f8c60d3e8779",
   "metadata": {},
   "outputs": [
    {
     "name": "stdout",
     "output_type": "stream",
     "text": [
      "3.12.4 | packaged by Anaconda, Inc. | (main, Jun 18 2024, 15:12:24) [GCC 11.2.0]\n"
     ]
    }
   ],
   "source": [
    "print(sys.version)"
   ]
  },
  {
   "cell_type": "code",
   "execution_count": 9,
   "id": "4320878b-52ef-4d70-8076-32585ed9e3c0",
   "metadata": {},
   "outputs": [
    {
     "name": "stdout",
     "output_type": "stream",
     "text": [
      "o\n"
     ]
    }
   ],
   "source": [
    "a= ' hello world'\n",
    "print(a[5])"
   ]
  },
  {
   "cell_type": "code",
   "execution_count": 5,
   "id": "c972f373-eb85-4760-93d2-92760be827fe",
   "metadata": {},
   "outputs": [
    {
     "name": "stdout",
     "output_type": "stream",
     "text": [
      " \n",
      "h\n",
      "e\n",
      "l\n",
      "l\n",
      "o\n",
      " \n",
      "w\n",
      "o\n",
      "r\n",
      "l\n",
      "d\n"
     ]
    }
   ],
   "source": [
    "for x in a :\n",
    "    print(x)"
   ]
  },
  {
   "cell_type": "code",
   "execution_count": 6,
   "id": "aa984ff5-8d07-49cb-99b0-b86a41f53ceb",
   "metadata": {},
   "outputs": [
    {
     "name": "stdout",
     "output_type": "stream",
     "text": [
      "d\n"
     ]
    }
   ],
   "source": [
    "for a in x:\n",
    "    print (a)"
   ]
  },
  {
   "cell_type": "code",
   "execution_count": 7,
   "id": "a16e9c75-e249-49e5-9196-067bfb7503d5",
   "metadata": {},
   "outputs": [
    {
     "name": "stdout",
     "output_type": "stream",
     "text": [
      "1\n"
     ]
    }
   ],
   "source": [
    "print(len(x))"
   ]
  },
  {
   "cell_type": "code",
   "execution_count": 10,
   "id": "78ae7969-f203-4932-9d0d-9f7fb5065f48",
   "metadata": {},
   "outputs": [
    {
     "name": "stdout",
     "output_type": "stream",
     "text": [
      "12\n"
     ]
    }
   ],
   "source": [
    "print(len(a))"
   ]
  },
  {
   "cell_type": "code",
   "execution_count": 11,
   "id": "3f162df2-746e-4c93-a1ce-ffd2efed528a",
   "metadata": {},
   "outputs": [
    {
     "name": "stdout",
     "output_type": "stream",
     "text": [
      "True\n"
     ]
    }
   ],
   "source": [
    "print(\"d\" in a)"
   ]
  },
  {
   "cell_type": "code",
   "execution_count": 13,
   "id": "dbad8529-33dc-4fbe-9855-bc465fd6720f",
   "metadata": {},
   "outputs": [],
   "source": [
    "if \"c\" in a:\n",
    "    print(\"yes\")"
   ]
  },
  {
   "cell_type": "code",
   "execution_count": 15,
   "id": "3a4a66a6-c1d1-4f81-8d99-5db8a3c8b9eb",
   "metadata": {},
   "outputs": [
    {
     "name": "stdout",
     "output_type": "stream",
     "text": [
      "False\n"
     ]
    }
   ],
   "source": [
    "print(\"d\" not in a)"
   ]
  },
  {
   "cell_type": "code",
   "execution_count": 17,
   "id": "5ff3c65a-2298-4470-93d1-84dca3f76616",
   "metadata": {},
   "outputs": [
    {
     "name": "stdout",
     "output_type": "stream",
     "text": [
      "True\n"
     ]
    }
   ],
   "source": [
    "print(\"c\" not in a)"
   ]
  },
  {
   "cell_type": "code",
   "execution_count": 19,
   "id": "52e59e68-ff77-48cf-9664-6db72b4efa6c",
   "metadata": {},
   "outputs": [
    {
     "name": "stdout",
     "output_type": "stream",
     "text": [
      "o w\n"
     ]
    }
   ],
   "source": [
    "print(a[5:8])"
   ]
  },
  {
   "cell_type": "code",
   "execution_count": 20,
   "id": "17a5d11f-d513-4259-98db-2175cc3f904d",
   "metadata": {},
   "outputs": [
    {
     "name": "stdout",
     "output_type": "stream",
     "text": [
      " hel\n"
     ]
    }
   ],
   "source": [
    "print(a[:4])"
   ]
  },
  {
   "cell_type": "code",
   "execution_count": 23,
   "id": "e30904d7-4927-4b24-a1d0-dd89e42ec704",
   "metadata": {},
   "outputs": [
    {
     "name": "stdout",
     "output_type": "stream",
     "text": [
      "lo \n"
     ]
    }
   ],
   "source": [
    "print(a[-8:-5])"
   ]
  },
  {
   "cell_type": "code",
   "execution_count": 24,
   "id": "d4200581-eecc-4fc8-a7b9-a531ed0cf27b",
   "metadata": {},
   "outputs": [
    {
     "name": "stdout",
     "output_type": "stream",
     "text": [
      " HELLO WORLD\n"
     ]
    }
   ],
   "source": [
    "print(a.upper())"
   ]
  },
  {
   "cell_type": "code",
   "execution_count": 25,
   "id": "87fbc11a-0abe-4a34-9ca8-c20a6117b8b5",
   "metadata": {},
   "outputs": [
    {
     "name": "stdout",
     "output_type": "stream",
     "text": [
      " hello world\n"
     ]
    }
   ],
   "source": [
    "print(a.lower())"
   ]
  },
  {
   "cell_type": "code",
   "execution_count": 26,
   "id": "9390c1fe-a990-4bf7-9022-496ef604ae48",
   "metadata": {},
   "outputs": [
    {
     "name": "stdout",
     "output_type": "stream",
     "text": [
      "hello world\n"
     ]
    }
   ],
   "source": [
    "print(a.strip())"
   ]
  },
  {
   "cell_type": "code",
   "execution_count": 27,
   "id": "9160926c-a0ab-4f5d-b171-664dcf998dfc",
   "metadata": {},
   "outputs": [
    {
     "name": "stdout",
     "output_type": "stream",
     "text": [
      " rello world\n"
     ]
    }
   ],
   "source": [
    "print(a.replace(\"h\",\"r\"))"
   ]
  },
  {
   "cell_type": "code",
   "execution_count": 28,
   "id": "8ea89831-dcda-42e7-a1ea-aeca53948cd3",
   "metadata": {},
   "outputs": [
    {
     "name": "stdout",
     "output_type": "stream",
     "text": [
      "['hello', 'world']\n"
     ]
    }
   ],
   "source": [
    "print(a.split())"
   ]
  },
  {
   "cell_type": "code",
   "execution_count": 29,
   "id": "1897f349-0189-4d3e-83db-73a019766c55",
   "metadata": {},
   "outputs": [
    {
     "name": "stdout",
     "output_type": "stream",
     "text": [
      "helloworld\n"
     ]
    }
   ],
   "source": [
    "x=\"hello\"\n",
    "y=\"world\"\n",
    "print(x+y)"
   ]
  },
  {
   "cell_type": "code",
   "execution_count": 30,
   "id": "2b92f760-5145-4ab3-b793-26132433240a",
   "metadata": {},
   "outputs": [
    {
     "name": "stdout",
     "output_type": "stream",
     "text": [
      "hello world\n"
     ]
    }
   ],
   "source": [
    "print(x+' '+y)"
   ]
  },
  {
   "cell_type": "code",
   "execution_count": 31,
   "id": "3617aee8-4a2e-4fd3-8371-8fdda610b75e",
   "metadata": {},
   "outputs": [],
   "source": [
    "#F-strings"
   ]
  },
  {
   "cell_type": "code",
   "execution_count": 37,
   "id": "cc8b42cf-9a01-4ee8-a476-1b3fb72423b1",
   "metadata": {},
   "outputs": [
    {
     "name": "stdout",
     "output_type": "stream",
     "text": [
      "i am hala i am 23\n"
     ]
    }
   ],
   "source": [
    "age = 23\n",
    "name = \"hala\"\n",
    "txt=f\"i am {name} i am {age}\"\n",
    "print(txt)"
   ]
  },
  {
   "cell_type": "code",
   "execution_count": 38,
   "id": "711a349b-b21e-456d-bceb-b2941347dba8",
   "metadata": {},
   "outputs": [
    {
     "name": "stdout",
     "output_type": "stream",
     "text": [
      "b' hello world'\n"
     ]
    }
   ],
   "source": [
    "print(a.encode())"
   ]
  },
  {
   "cell_type": "code",
   "execution_count": 39,
   "id": "5a7602c5-6df7-4da7-bd5e-ee46cb8737d4",
   "metadata": {},
   "outputs": [
    {
     "name": "stdout",
     "output_type": "stream",
     "text": [
      "b'hala'\n"
     ]
    }
   ],
   "source": [
    "print(name.encode())"
   ]
  },
  {
   "cell_type": "code",
   "execution_count": 1,
   "id": "9f492ad6-0ad5-4f20-af09-1439b909ccaa",
   "metadata": {},
   "outputs": [
    {
     "name": "stdout",
     "output_type": "stream",
     "text": [
      "['b', 'a', ' d']\n"
     ]
    }
   ],
   "source": [
    "list= [ \"b\", 'a', ' d']\n",
    "print(list)"
   ]
  },
  {
   "cell_type": "code",
   "execution_count": 2,
   "id": "734efa54-9a37-4c84-92fe-0d80447fca20",
   "metadata": {},
   "outputs": [
    {
     "name": "stdout",
     "output_type": "stream",
     "text": [
      "b\n"
     ]
    }
   ],
   "source": [
    "print(list[0])"
   ]
  },
  {
   "cell_type": "code",
   "execution_count": 3,
   "id": "2bd456ba-91fd-4bbf-96fc-a6a25dac82e3",
   "metadata": {},
   "outputs": [
    {
     "name": "stdout",
     "output_type": "stream",
     "text": [
      "3\n"
     ]
    }
   ],
   "source": [
    "print(len(list))"
   ]
  },
  {
   "cell_type": "code",
   "execution_count": 5,
   "id": "621e8aad-c105-49cd-a8da-7fc7180e1fcb",
   "metadata": {},
   "outputs": [
    {
     "name": "stdout",
     "output_type": "stream",
     "text": [
      "['a']\n"
     ]
    }
   ],
   "source": [
    "print(list[-2:-1])"
   ]
  },
  {
   "cell_type": "code",
   "execution_count": 7,
   "id": "751af0ed-192f-4209-a6b1-015e59f354fc",
   "metadata": {},
   "outputs": [
    {
     "name": "stdout",
     "output_type": "stream",
     "text": [
      "['b', 'a', 'c']\n"
     ]
    }
   ],
   "source": [
    "list[2]='c'\n",
    "print(list)"
   ]
  },
  {
   "cell_type": "code",
   "execution_count": 8,
   "id": "9fa2fb2c-edae-48cc-93ca-c5c75c6483a3",
   "metadata": {},
   "outputs": [
    {
     "name": "stdout",
     "output_type": "stream",
     "text": [
      "['b', 'd', 'e', 'c']\n"
     ]
    }
   ],
   "source": [
    "list[1:2]=['d' ,'e']\n",
    "print(list)"
   ]
  },
  {
   "cell_type": "code",
   "execution_count": 9,
   "id": "610b1638-cd36-4360-b729-c8e110b8eeb5",
   "metadata": {},
   "outputs": [
    {
     "name": "stdout",
     "output_type": "stream",
     "text": [
      "['a', 'b', 'd', 'e', 'c']\n"
     ]
    }
   ],
   "source": [
    "list.insert(0, 'a')\n",
    "print(list)"
   ]
  },
  {
   "cell_type": "code",
   "execution_count": 10,
   "id": "ce54848f-1b70-4bb1-98c0-4001619792dc",
   "metadata": {},
   "outputs": [],
   "source": [
    "list.append('f')"
   ]
  },
  {
   "cell_type": "code",
   "execution_count": 11,
   "id": "2d8fecec-ad34-4734-b2c2-797eadb9a009",
   "metadata": {},
   "outputs": [
    {
     "name": "stdout",
     "output_type": "stream",
     "text": [
      "['a', 'b', 'd', 'e', 'c', 'f']\n"
     ]
    }
   ],
   "source": [
    "print(list)"
   ]
  },
  {
   "cell_type": "code",
   "execution_count": 12,
   "id": "2c52b168-1836-4fb3-9923-d24051936434",
   "metadata": {},
   "outputs": [
    {
     "name": "stdout",
     "output_type": "stream",
     "text": [
      "a\n",
      "b\n",
      "d\n",
      "e\n",
      "c\n",
      "f\n"
     ]
    }
   ],
   "source": [
    "for x in list:\n",
    "    print(x)"
   ]
  },
  {
   "cell_type": "code",
   "execution_count": 2,
   "id": "4fcb68c3-e5a5-4018-8213-44b22938704b",
   "metadata": {},
   "outputs": [
    {
     "name": "stdout",
     "output_type": "stream",
     "text": [
      "positive\n"
     ]
    }
   ],
   "source": [
    "num=1\n",
    "if num>0:\n",
    "    print(\"positive\")\n",
    "elif num==0:\n",
    "    print(\"zero\")\n",
    "else:\n",
    "    print(\"negative\")"
   ]
  },
  {
   "cell_type": "code",
   "execution_count": null,
   "id": "26e6f834-f0d3-48f8-9115-2b896ea2261b",
   "metadata": {},
   "outputs": [],
   "source": []
  }
 ],
 "metadata": {
  "kernelspec": {
   "display_name": "Python 3 (ipykernel)",
   "language": "python",
   "name": "python3"
  },
  "language_info": {
   "codemirror_mode": {
    "name": "ipython",
    "version": 3
   },
   "file_extension": ".py",
   "mimetype": "text/x-python",
   "name": "python",
   "nbconvert_exporter": "python",
   "pygments_lexer": "ipython3",
   "version": "3.12.4"
  }
 },
 "nbformat": 4,
 "nbformat_minor": 5
}
