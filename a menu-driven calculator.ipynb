{
 "cells": [
  {
   "cell_type": "code",
   "execution_count": 1,
   "id": "9ac7734d-94a2-4143-bc77-0b02c2ffc904",
   "metadata": {},
   "outputs": [],
   "source": [
    "def add(a, b):\n",
    "    return a+b"
   ]
  },
  {
   "cell_type": "code",
   "execution_count": 2,
   "id": "7e6d364e-aeef-49a0-a5ca-5c8b0d373719",
   "metadata": {},
   "outputs": [],
   "source": [
    "def subtract(a,b):\n",
    "    return a-b"
   ]
  },
  {
   "cell_type": "code",
   "execution_count": 3,
   "id": "27db12d2-12aa-495a-8dbd-c626879ce221",
   "metadata": {},
   "outputs": [],
   "source": [
    "def multiply(a,b):\n",
    "    return a*b"
   ]
  },
  {
   "cell_type": "code",
   "execution_count": 4,
   "id": "b752cf5d-f1ff-48cb-bfb9-3b7d5b8e0ad6",
   "metadata": {},
   "outputs": [],
   "source": [
    "def divide(a,b):\n",
    "    if b !=0:\n",
    "        return a/b\n",
    "    else :\n",
    "        return \"division by zero not allowed\""
   ]
  },
  {
   "cell_type": "code",
   "execution_count": 10,
   "id": "95e7b261-00b9-4758-9297-961a1160bd5d",
   "metadata": {},
   "outputs": [
    {
     "name": "stdout",
     "output_type": "stream",
     "text": [
      "\n",
      " Menu\n",
      "1. add\n",
      "2. subtract\n",
      "3. mulitply\n",
      "4. divide\n",
      "5. exit\n"
     ]
    },
    {
     "name": "stdin",
     "output_type": "stream",
     "text": [
      "enter your choice:  1\n",
      "enter first number:  5\n",
      "enter second number:  5\n"
     ]
    },
    {
     "name": "stdout",
     "output_type": "stream",
     "text": [
      "Result:  10.0\n",
      "\n",
      " Menu\n",
      "1. add\n",
      "2. subtract\n",
      "3. mulitply\n",
      "4. divide\n",
      "5. exit\n"
     ]
    },
    {
     "name": "stdin",
     "output_type": "stream",
     "text": [
      "enter your choice:  2\n",
      "enter first number:  8\n",
      "enter second number:  4\n"
     ]
    },
    {
     "name": "stdout",
     "output_type": "stream",
     "text": [
      "Result:  4.0\n",
      "\n",
      " Menu\n",
      "1. add\n",
      "2. subtract\n",
      "3. mulitply\n",
      "4. divide\n",
      "5. exit\n"
     ]
    },
    {
     "name": "stdin",
     "output_type": "stream",
     "text": [
      "enter your choice:  3\n",
      "enter first number:  5\n",
      "enter second number:  4\n"
     ]
    },
    {
     "name": "stdout",
     "output_type": "stream",
     "text": [
      "Result:  20.0\n",
      "\n",
      " Menu\n",
      "1. add\n",
      "2. subtract\n",
      "3. mulitply\n",
      "4. divide\n",
      "5. exit\n"
     ]
    },
    {
     "name": "stdin",
     "output_type": "stream",
     "text": [
      "enter your choice:  7\n"
     ]
    },
    {
     "name": "stdout",
     "output_type": "stream",
     "text": [
      "Invalid choice, please try again.\n",
      "\n",
      " Menu\n",
      "1. add\n",
      "2. subtract\n",
      "3. mulitply\n",
      "4. divide\n",
      "5. exit\n"
     ]
    },
    {
     "name": "stdin",
     "output_type": "stream",
     "text": [
      "enter your choice:  0\n"
     ]
    },
    {
     "name": "stdout",
     "output_type": "stream",
     "text": [
      "Invalid choice, please try again.\n",
      "\n",
      " Menu\n",
      "1. add\n",
      "2. subtract\n",
      "3. mulitply\n",
      "4. divide\n",
      "5. exit\n"
     ]
    },
    {
     "name": "stdin",
     "output_type": "stream",
     "text": [
      "enter your choice:  4\n",
      "enter first number:  7\n",
      "enter second number:  0\n"
     ]
    },
    {
     "name": "stdout",
     "output_type": "stream",
     "text": [
      "Result:  division by zero not allowed\n",
      "\n",
      " Menu\n",
      "1. add\n",
      "2. subtract\n",
      "3. mulitply\n",
      "4. divide\n",
      "5. exit\n"
     ]
    },
    {
     "name": "stdin",
     "output_type": "stream",
     "text": [
      "enter your choice:  4\n",
      "enter first number:  4\n",
      "enter second number:  4\n"
     ]
    },
    {
     "name": "stdout",
     "output_type": "stream",
     "text": [
      "Result:  1.0\n",
      "\n",
      " Menu\n",
      "1. add\n",
      "2. subtract\n",
      "3. mulitply\n",
      "4. divide\n",
      "5. exit\n"
     ]
    },
    {
     "name": "stdin",
     "output_type": "stream",
     "text": [
      "enter your choice:  5\n"
     ]
    },
    {
     "name": "stdout",
     "output_type": "stream",
     "text": [
      "exit\n"
     ]
    }
   ],
   "source": [
    "while True:\n",
    "    print(\"\\n Menu\")\n",
    "    print(\"1. add\")\n",
    "    print(\"2. subtract\")\n",
    "    print(\"3. mulitply\")\n",
    "    print(\"4. divide\")\n",
    "    print(\"5. exit\")\n",
    "    choice = input(\"enter your choice: \")\n",
    "    if choice == \"5\":\n",
    "        print(\"exit\")\n",
    "        break\n",
    "    if choice not in [\"1\", \"2\", \"3\", \"4\"]:\n",
    "        print(\"Invalid choice, please try again.\")\n",
    "        continue \n",
    "    num1=float(input(\"enter first number: \"))\n",
    "    num2=float(input(\"enter second number: \"))\n",
    "    if choice==\"1\":\n",
    "        print(\"Result: \", add(num1,num2))\n",
    "    elif choice==\"2\":\n",
    "        print(\"Result: \", subtract(num1,num2))\n",
    "    elif choice==\"3\":\n",
    "        print(\"Result: \", multiply(num1,num2))\n",
    "    elif choice==\"4\":\n",
    "        print(\"Result: \", divide(num1,num2))\n",
    "    "
   ]
  },
  {
   "cell_type": "code",
   "execution_count": null,
   "id": "bd5f30a6-4ab1-48f4-ac7f-9a19f109933c",
   "metadata": {},
   "outputs": [],
   "source": []
  }
 ],
 "metadata": {
  "kernelspec": {
   "display_name": "Python 3 (ipykernel)",
   "language": "python",
   "name": "python3"
  },
  "language_info": {
   "codemirror_mode": {
    "name": "ipython",
    "version": 3
   },
   "file_extension": ".py",
   "mimetype": "text/x-python",
   "name": "python",
   "nbconvert_exporter": "python",
   "pygments_lexer": "ipython3",
   "version": "3.12.4"
  }
 },
 "nbformat": 4,
 "nbformat_minor": 5
}
