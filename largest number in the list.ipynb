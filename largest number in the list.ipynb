{
 "cells": [
  {
   "cell_type": "code",
   "execution_count": 11,
   "id": "28285ed9-cf25-414f-b133-c499b446f884",
   "metadata": {},
   "outputs": [
    {
     "name": "stdin",
     "output_type": "stream",
     "text": [
      "how many number in your list 5\n",
      "Enter number 1: 1\n",
      "Enter number 2: 5\n",
      "Enter number 3: 6\n",
      "Enter number 4: 7\n",
      "Enter number 5: 3\n"
     ]
    },
    {
     "name": "stdout",
     "output_type": "stream",
     "text": [
      "the largest number in the list is :  7.0\n"
     ]
    }
   ],
   "source": [
    "n = int(input(\"how many number in your list\"))\n",
    "list= [ ] \n",
    "for i in range(n):\n",
    "    num = float(input(f\"Enter number {i+1}:\"))\n",
    "    list.append(num)\n",
    "largest= list[0]\n",
    "for num in list:\n",
    "    if num > largest:\n",
    "        largest = num\n",
    "print(\"the largest number in the list is : \", largest )\n",
    "\n"
   ]
  },
  {
   "cell_type": "code",
   "execution_count": 13,
   "id": "694b2666-e671-41b5-b2c6-280c65b9688a",
   "metadata": {},
   "outputs": [
    {
     "name": "stdin",
     "output_type": "stream",
     "text": [
      "how many numbers 4\n",
      "enter number: 1\n",
      "enter number: 2\n",
      "enter number: 5\n",
      "enter number: 6\n"
     ]
    }
   ],
   "source": [
    "n = int(input(\"how many numbers\"))\n",
    "list=[]\n",
    "for i in range(n):\n",
    "    num = float(input(\"enter number:\"))\n",
    "    list.append(num)\n",
    "    "
   ]
  },
  {
   "cell_type": "code",
   "execution_count": 14,
   "id": "4207f7a2-0503-4fe3-94fa-ba8e70e79506",
   "metadata": {},
   "outputs": [
    {
     "name": "stdout",
     "output_type": "stream",
     "text": [
      "[1.0, 2.0, 5.0, 6.0]\n"
     ]
    }
   ],
   "source": [
    "print(list)"
   ]
  },
  {
   "cell_type": "code",
   "execution_count": 16,
   "id": "fb440400-63ac-4269-a639-ad00033b7136",
   "metadata": {},
   "outputs": [
    {
     "name": "stdout",
     "output_type": "stream",
     "text": [
      "the largest is : 6.0\n"
     ]
    }
   ],
   "source": [
    "largest=list[0]\n",
    "for numb in list:\n",
    "    if numb > largest:\n",
    "        largest = numb\n",
    "print(\"the largest is :\",largest)"
   ]
  },
  {
   "cell_type": "code",
   "execution_count": 17,
   "id": "35853c46-5c85-4d06-8aa3-6b5367ddd949",
   "metadata": {},
   "outputs": [
    {
     "name": "stdout",
     "output_type": "stream",
     "text": [
      "the largest is : 6.0\n"
     ]
    }
   ],
   "source": [
    "print(\"the largest is :\",max(list))"
   ]
  },
  {
   "cell_type": "code",
   "execution_count": null,
   "id": "cd3038fe-aa52-4189-b36e-741569d91b2c",
   "metadata": {},
   "outputs": [],
   "source": []
  }
 ],
 "metadata": {
  "kernelspec": {
   "display_name": "Python 3 (ipykernel)",
   "language": "python",
   "name": "python3"
  },
  "language_info": {
   "codemirror_mode": {
    "name": "ipython",
    "version": 3
   },
   "file_extension": ".py",
   "mimetype": "text/x-python",
   "name": "python",
   "nbconvert_exporter": "python",
   "pygments_lexer": "ipython3",
   "version": "3.12.4"
  }
 },
 "nbformat": 4,
 "nbformat_minor": 5
}
